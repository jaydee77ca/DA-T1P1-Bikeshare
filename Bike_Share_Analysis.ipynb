{
 "cells": [
  {
   "cell_type": "markdown",
   "metadata": {},
   "source": [
    "# 2016 US Bike Share Activity Snapshot\n",
    "\n",
    "## Table of Contents\n",
    "- [Introduction](#intro)\n",
    "- [Posing Questions](#pose_questions)\n",
    "- [Data Collection and Wrangling](#wrangling)\n",
    "  - [Condensing the Trip Data](#condensing)\n",
    "- [Exploratory Data Analysis](#eda)\n",
    "  - [Statistics](#statistics)\n",
    "  - [Visualizations](#visualizations)\n",
    "- [Performing Your Own Analysis](#eda_continued)\n",
    "- [Conclusions](#conclusions)\n",
    "\n",
    "<a id='intro'></a>\n",
    "## Introduction\n",
    "\n",
    "> **Tip**: Quoted sections like this will provide helpful instructions on how to navigate and use a Jupyter notebook.\n",
    "\n",
    "Over the past decade, bicycle-sharing systems have been growing in number and popularity in cities across the world. Bicycle-sharing systems allow users to rent bicycles for short trips, typically 30 minutes or less. Thanks to the rise in information technologies, it is easy for a user of the system to access a dock within the system to unlock or return bicycles. These technologies also provide a wealth of data that can be used to explore how these bike-sharing systems are used.\n",
    "\n",
    "In this project, you will perform an exploratory analysis on data provided by [Motivate](https://www.motivateco.com/), a bike-share system provider for many major cities in the United States. You will compare the system usage between three large cities: New York City, Chicago, and Washington, DC. You will also see if there are any differences within each system for those users that are registered, regular users and those users that are short-term, casual users."
   ]
  },
  {
   "cell_type": "markdown",
   "metadata": {},
   "source": [
    "<a id='pose_questions'></a>\n",
    "## Posing Questions\n",
    "\n",
    "Before looking at the bike sharing data, you should start by asking questions you might want to understand about the bike share data. Consider, for example, if you were working for Motivate. What kinds of information would you want to know about in order to make smarter business decisions? If you were a user of the bike-share service, what factors might influence how you would want to use the service?\n",
    "\n",
    "**Question 1**: Write at least two questions related to bike sharing that you think could be answered by data.\n",
    "\n",
    "**Answer**: How many first time users use the system a second time? Is the number of unique users per month increasing? What is the average trip distance? What is the cost per distance unit travelled? (e.g. $/km)\n",
    "\n",
    "> **Tip**: If you double click on this cell, you will see the text change so that all of the formatting is removed. This allows you to edit this block of text. This block of text is written using [Markdown](http://daringfireball.net/projects/markdown/syntax), which is a way to format text using headers, links, italics, and many other options using a plain-text syntax. You will also use Markdown later in the Nanodegree program. Use **Shift** + **Enter** or **Shift** + **Return** to run the cell and show its rendered form."
   ]
  },
  {
   "cell_type": "markdown",
   "metadata": {},
   "source": [
    "<a id='wrangling'></a>\n",
    "## Data Collection and Wrangling\n",
    "\n",
    "Now it's time to collect and explore our data. In this project, we will focus on the record of individual trips taken in 2016 from our selected cities: New York City, Chicago, and Washington, DC. Each of these cities has a page where we can freely download the trip data.:\n",
    "\n",
    "- New York City (Citi Bike): [Link](https://www.citibikenyc.com/system-data)\n",
    "- Chicago (Divvy): [Link](https://www.divvybikes.com/system-data)\n",
    "- Washington, DC (Capital Bikeshare): [Link](https://www.capitalbikeshare.com/system-data)\n",
    "\n",
    "If you visit these pages, you will notice that each city has a different way of delivering its data. Chicago updates with new data twice a year, Washington DC is quarterly, and New York City is monthly. **However, you do not need to download the data yourself.** The data has already been collected for you in the `/data/` folder of the project files. While the original data for 2016 is spread among multiple files for each city, the files in the `/data/` folder collect all of the trip data for the year into one file per city. Some data wrangling of inconsistencies in timestamp format within each city has already been performed for you. In addition, a random 2% sample of the original data is taken to make the exploration more manageable. \n",
    "\n",
    "**Question 2**: However, there is still a lot of data for us to investigate, so it's a good idea to start off by looking at one entry from each of the cities we're going to analyze. Run the first code cell below to load some packages and functions that you'll be using in your analysis. Then, complete the second code cell to print out the first trip recorded from each of the cities (the second line of each data file).\n",
    "\n",
    "> **Tip**: You can run a code cell like you formatted Markdown cells above by clicking on the cell and using the keyboard shortcut **Shift** + **Enter** or **Shift** + **Return**. Alternatively, a code cell can be executed using the **Play** button in the toolbar after selecting it. While the cell is running, you will see an asterisk in the message to the left of the cell, i.e. `In [*]:`. The asterisk will change into a number to show that execution has completed, e.g. `In [1]`. If there is output, it will show up as `Out [1]:`, with an appropriate number to match the \"In\" number."
   ]
  },
  {
   "cell_type": "code",
   "execution_count": 162,
   "metadata": {
    "collapsed": true
   },
   "outputs": [],
   "source": [
    "## import all necessary packages and functions.\n",
    "import csv # read and write csv files\n",
    "from datetime import datetime # operations to parse dates\n",
    "from pprint import pprint # use to print data structures like dictionaries in\n",
    "                          # a nicer way than the base print function.\n",
    "from pandas import DataFrame # library for printing tabular data\n",
    "import shutil # operations for manipulating files\n",
    "import numpy as np # library for scientific computing\n",
    "\n",
    "# load library\n",
    "import matplotlib.pyplot as plt\n",
    "\n",
    "# this is a 'magic word' that allows for plots to be displayed\n",
    "# inline with the notebook. If you want to know more, see:\n",
    "# http://ipython.readthedocs.io/en/stable/interactive/magics.html\n",
    "%matplotlib inline"
   ]
  },
  {
   "cell_type": "code",
   "execution_count": 163,
   "metadata": {},
   "outputs": [
    {
     "name": "stdout",
     "output_type": "stream",
     "text": [
      "\n",
      "City: NYC\n",
      "OrderedDict([('tripduration', '839'),\n",
      "             ('starttime', '1/1/2016 00:09:55'),\n",
      "             ('stoptime', '1/1/2016 00:23:54'),\n",
      "             ('start station id', '532'),\n",
      "             ('start station name', 'S 5 Pl & S 4 St'),\n",
      "             ('start station latitude', '40.710451'),\n",
      "             ('start station longitude', '-73.960876'),\n",
      "             ('end station id', '401'),\n",
      "             ('end station name', 'Allen St & Rivington St'),\n",
      "             ('end station latitude', '40.72019576'),\n",
      "             ('end station longitude', '-73.98997825'),\n",
      "             ('bikeid', '17109'),\n",
      "             ('usertype', 'Customer'),\n",
      "             ('birth year', ''),\n",
      "             ('gender', '0')])\n",
      "\n",
      "City: Chicago\n",
      "OrderedDict([('trip_id', '9080545'),\n",
      "             ('starttime', '3/31/2016 23:30'),\n",
      "             ('stoptime', '3/31/2016 23:46'),\n",
      "             ('bikeid', '2295'),\n",
      "             ('tripduration', '926'),\n",
      "             ('from_station_id', '156'),\n",
      "             ('from_station_name', 'Clark St & Wellington Ave'),\n",
      "             ('to_station_id', '166'),\n",
      "             ('to_station_name', 'Ashland Ave & Wrightwood Ave'),\n",
      "             ('usertype', 'Subscriber'),\n",
      "             ('gender', 'Male'),\n",
      "             ('birthyear', '1990')])\n",
      "\n",
      "City: Washington\n",
      "OrderedDict([('Duration (ms)', '427387'),\n",
      "             ('Start date', '3/31/2016 22:57'),\n",
      "             ('End date', '3/31/2016 23:04'),\n",
      "             ('Start station number', '31602'),\n",
      "             ('Start station', 'Park Rd & Holmead Pl NW'),\n",
      "             ('End station number', '31207'),\n",
      "             ('End station', 'Georgia Ave and Fairmont St NW'),\n",
      "             ('Bike number', 'W20842'),\n",
      "             ('Member Type', 'Registered')])\n"
     ]
    }
   ],
   "source": [
    "def print_first_point(filename):\n",
    "    \"\"\"\n",
    "    This function prints and returns the first data point (second row) from\n",
    "    a csv file that includes a header row.\n",
    "    \"\"\"\n",
    "    # print city name for reference\n",
    "    city = filename.split('-')[0].split('/')[-1]\n",
    "    print('\\nCity: {}'.format(city))\n",
    "    \n",
    "    with open(filename, 'r') as f_in:\n",
    "        ## TODO: Use the csv library to set up a DictReader object. ##\n",
    "        ## see https://docs.python.org/3/library/csv.html           ##\n",
    "        trip_reader = csv.DictReader(f_in)\n",
    "        \n",
    "        ## TODO: Use a function on the DictReader object to read the     ##\n",
    "        ## first trip from the data file and store it in a variable.     ##\n",
    "        ## see https://docs.python.org/3/library/csv.html#reader-objects ##\n",
    "        first_trip = next(trip_reader)\n",
    "        \n",
    "        ## TODO: Use the pprint library to print the first trip. ##\n",
    "        ## see https://docs.python.org/3/library/pprint.html     ##\n",
    "        pprint(first_trip)\n",
    "        \n",
    "    # output city name and first trip for later testing\n",
    "    return (city, first_trip)\n",
    "\n",
    "# list of files for each city\n",
    "data_files = ['./data/NYC-CitiBike-2016.csv',\n",
    "              './data/Chicago-Divvy-2016.csv',\n",
    "              './data/Washington-CapitalBikeshare-2016.csv',]\n",
    "\n",
    "# print the first trip from each file, store in dictionary\n",
    "example_trips = {}\n",
    "for data_file in data_files:\n",
    "    city, first_trip = print_first_point(data_file)\n",
    "    example_trips[city] = first_trip"
   ]
  },
  {
   "cell_type": "markdown",
   "metadata": {},
   "source": [
    "If everything has been filled out correctly, you should see below the printout of each city name (which has been parsed from the data file name) that the first trip has been parsed in the form of a dictionary. When you set up a `DictReader` object, the first row of the data file is normally interpreted as column names. Every other row in the data file will use those column names as keys, as a dictionary is generated for each row.\n",
    "\n",
    "This will be useful since we can refer to quantities by an easily-understandable label instead of just a numeric index. For example, if we have a trip stored in the variable `row`, then we would rather get the trip duration from `row['duration']` instead of `row[0]`.\n",
    "\n",
    "<a id='condensing'></a>\n",
    "### Condensing the Trip Data\n",
    "\n",
    "It should also be observable from the above printout that each city provides different information. Even where the information is the same, the column names and formats are sometimes different. To make things as simple as possible when we get to the actual exploration, we should trim and clean the data. Cleaning the data makes sure that the data formats across the cities are consistent, while trimming focuses only on the parts of the data we are most interested in to make the exploration easier to work with.\n",
    "\n",
    "You will generate new data files with five values of interest for each trip: trip duration, starting month, starting hour, day of the week, and user type. Each of these may require additional wrangling depending on the city:\n",
    "\n",
    "- **Duration**: This has been given to us in seconds (New York, Chicago) or milliseconds (Washington). A more natural unit of analysis will be if all the trip durations are given in terms of minutes.\n",
    "- **Month**, **Hour**, **Day of Week**: Ridership volume is likely to change based on the season, time of day, and whether it is a weekday or weekend. Use the start time of the trip to obtain these values. The New York City data includes the seconds in their timestamps, while Washington and Chicago do not. The [`datetime`](https://docs.python.org/3/library/datetime.html) package will be very useful here to make the needed conversions.\n",
    "- **User Type**: It is possible that users who are subscribed to a bike-share system will have different patterns of use compared to users who only have temporary passes. Washington divides its users into two types: 'Registered' for users with annual, monthly, and other longer-term subscriptions, and 'Casual', for users with 24-hour, 3-day, and other short-term passes. The New York and Chicago data uses 'Subscriber' and 'Customer' for these groups, respectively. For consistency, you will convert the Washington labels to match the other two.\n",
    "\n",
    "\n",
    "**Question 3a**: Complete the helper functions in the code cells below to address each of the cleaning tasks described above."
   ]
  },
  {
   "cell_type": "code",
   "execution_count": 164,
   "metadata": {
    "collapsed": true
   },
   "outputs": [],
   "source": [
    "def duration_in_mins(datum, city):\n",
    "    \"\"\"\n",
    "    Takes as input a dictionary containing info about a single trip (datum) and\n",
    "    its origin city (city) and returns the trip duration in units of minutes.\n",
    "    \n",
    "    Remember that Washington is in terms of milliseconds while Chicago and NYC\n",
    "    are in terms of seconds. \n",
    "    \n",
    "    HINT: The csv module reads in all of the data as strings, including numeric\n",
    "    values. You will need a function to convert the strings into an appropriate\n",
    "    numeric type when making your transformations.\n",
    "    see https://docs.python.org/3/library/functions.html\n",
    "    \"\"\"\n",
    "    \n",
    "    # YOUR CODE HERE\n",
    "    if city == \"NYC\" or city == \"Chicago\":\n",
    "        # Duration is in seconds\n",
    "        duration = int(datum['tripduration'])/60\n",
    "    else:\n",
    "        # Duration is in milliseconds\n",
    "        duration = int(datum['Duration (ms)'])/60000\n",
    "    \n",
    "    return duration\n",
    "\n",
    "\n",
    "# Some tests to check that your code works. There should be no output if all of\n",
    "# the assertions pass. The `example_trips` dictionary was obtained from when\n",
    "# you printed the first trip from each of the original data files.\n",
    "tests = {'NYC': 13.9833,\n",
    "         'Chicago': 15.4333,\n",
    "         'Washington': 7.1231}\n",
    "\n",
    "for city in tests:\n",
    "    assert abs(duration_in_mins(example_trips[city], city) - tests[city]) < .001"
   ]
  },
  {
   "cell_type": "code",
   "execution_count": 165,
   "metadata": {
    "collapsed": true,
    "scrolled": false
   },
   "outputs": [],
   "source": [
    "def time_of_trip(datum, city):\n",
    "    \"\"\"\n",
    "    Takes as input a dictionary containing info about a single trip (datum) and\n",
    "    its origin city (city) and returns the month, hour, and day of the week in\n",
    "    which the trip was made.\n",
    "    \n",
    "    Remember that NYC includes seconds, while Washington and Chicago do not.\n",
    "    \n",
    "    HINT: You should use the datetime module to parse the original date\n",
    "    strings into a format that is useful for extracting the desired information.\n",
    "    see https://docs.python.org/3/library/datetime.html#strftime-and-strptime-behavior\n",
    "    \"\"\"\n",
    "    \n",
    "    # YOUR CODE HERE\n",
    "    dt = None\n",
    "    if city == \"NYC\":\n",
    "        # ('starttime', '1/1/2016 00:09:55')\n",
    "        dt = datetime.strptime(datum['starttime'], \"%m/%d/%Y %H:%M:%S\")\n",
    "    elif city == \"Chicago\":\n",
    "        # ('starttime', '3/31/2016 23:30')\n",
    "        dt = datetime.strptime(datum['starttime'], \"%m/%d/%Y %H:%M\")\n",
    "    else:\n",
    "        # ('Start date', '3/31/2016 22:57')\n",
    "        dt = datetime.strptime(datum['Start date'], \"%m/%d/%Y %H:%M\")\n",
    "    \n",
    "    month = dt.month\n",
    "    hour = dt.hour\n",
    "    day_of_week = dt.strftime(\"%A\")\n",
    "    \n",
    "    return (month, hour, day_of_week)\n",
    "\n",
    "\n",
    "# Some tests to check that your code works. There should be no output if all of\n",
    "# the assertions pass. The `example_trips` dictionary was obtained from when\n",
    "# you printed the first trip from each of the original data files.\n",
    "tests = {'NYC': (1, 0, 'Friday'),\n",
    "         'Chicago': (3, 23, 'Thursday'),\n",
    "         'Washington': (3, 22, 'Thursday')}\n",
    "\n",
    "for city in tests:\n",
    "    assert time_of_trip(example_trips[city], city) == tests[city]"
   ]
  },
  {
   "cell_type": "code",
   "execution_count": 166,
   "metadata": {
    "collapsed": true
   },
   "outputs": [],
   "source": [
    "def type_of_user(datum, city):\n",
    "    \"\"\"\n",
    "    Takes as input a dictionary containing info about a single trip (datum) and\n",
    "    its origin city (city) and returns the type of system user that made the\n",
    "    trip.\n",
    "    \n",
    "    Remember that Washington has different category names compared to Chicago\n",
    "    and NYC. \n",
    "    \"\"\"\n",
    "    \n",
    "    user_type = None\n",
    "    \n",
    "    # YOUR CODE HERE\n",
    "    if city == \"NYC\" or city == \"Chicago\":\n",
    "        # ('usertype', 'Customer')\n",
    "        user_type = datum['usertype']\n",
    "    else:\n",
    "        # ('Member Type', 'Registered')\n",
    "        if datum['Member Type'] == \"Registered\":\n",
    "            user_type = \"Subscriber\"\n",
    "        else:\n",
    "            user_type = \"Customer\"\n",
    "    \n",
    "    return user_type\n",
    "\n",
    "\n",
    "# Some tests to check that your code works. There should be no output if all of\n",
    "# the assertions pass. The `example_trips` dictionary was obtained from when\n",
    "# you printed the first trip from each of the original data files.\n",
    "tests = {'NYC': 'Customer',\n",
    "         'Chicago': 'Subscriber',\n",
    "         'Washington': 'Subscriber'}\n",
    "\n",
    "for city in tests:\n",
    "    assert type_of_user(example_trips[city], city) == tests[city]"
   ]
  },
  {
   "cell_type": "markdown",
   "metadata": {},
   "source": [
    "**Question 3b**: Now, use the helper functions you wrote above to create a condensed data file for each city consisting only of the data fields indicated above. In the `/examples/` folder, you will see an example datafile from the [Bay Area Bike Share](http://www.bayareabikeshare.com/open-data) before and after conversion. Make sure that your output is formatted to be consistent with the example file."
   ]
  },
  {
   "cell_type": "code",
   "execution_count": 167,
   "metadata": {
    "collapsed": true
   },
   "outputs": [],
   "source": [
    "def condense_data(in_file, out_file, city):\n",
    "    \"\"\"\n",
    "    This function takes full data from the specified input file\n",
    "    and writes the condensed data to a specified output file. The city\n",
    "    argument determines how the input file will be parsed.\n",
    "    \n",
    "    HINT: See the cell below to see how the arguments are structured!\n",
    "    \"\"\"\n",
    "    \n",
    "    with open(out_file, 'w') as f_out, open(in_file, 'r') as f_in:\n",
    "        # set up csv DictWriter object - writer requires column names for the\n",
    "        # first row as the \"fieldnames\" argument\n",
    "        out_colnames = ['duration', 'month', 'hour', 'day_of_week', 'user_type']        \n",
    "        trip_writer = csv.DictWriter(f_out, fieldnames = out_colnames)\n",
    "        trip_writer.writeheader()\n",
    "        \n",
    "        ## TODO: set up csv DictReader object ##\n",
    "        trip_reader = csv.DictReader(f_in)\n",
    "\n",
    "        # collect data from and process each row\n",
    "        for row in trip_reader:\n",
    "            # set up a dictionary to hold the values for the cleaned and trimmed\n",
    "            # data point\n",
    "            new_point = {}\n",
    "\n",
    "            ## TODO: use the helper functions to get the cleaned data from  ##\n",
    "            ## the original data dictionaries.                              ##\n",
    "            ## Note that the keys for the new_point dictionary should match ##\n",
    "            ## the column names set in the DictWriter object above.         ##\n",
    "            new_point['duration'] = duration_in_mins(row, city)\n",
    "            (new_point['month'], new_point['hour'], new_point['day_of_week']) = time_of_trip(row, city)\n",
    "            new_point['user_type'] = type_of_user(row, city)\n",
    "\n",
    "            ## TODO: write the processed information to the output file.     ##\n",
    "            ## see https://docs.python.org/3/library/csv.html#writer-objects ##\n",
    "            trip_writer.writerow(new_point)\n",
    "            "
   ]
  },
  {
   "cell_type": "code",
   "execution_count": 168,
   "metadata": {},
   "outputs": [
    {
     "name": "stdout",
     "output_type": "stream",
     "text": [
      "\n",
      "City: Washington\n",
      "OrderedDict([('duration', '7.123116666666666'),\n",
      "             ('month', '3'),\n",
      "             ('hour', '22'),\n",
      "             ('day_of_week', 'Thursday'),\n",
      "             ('user_type', 'Subscriber')])\n",
      "\n",
      "City: Chicago\n",
      "OrderedDict([('duration', '15.433333333333334'),\n",
      "             ('month', '3'),\n",
      "             ('hour', '23'),\n",
      "             ('day_of_week', 'Thursday'),\n",
      "             ('user_type', 'Subscriber')])\n",
      "\n",
      "City: NYC\n",
      "OrderedDict([('duration', '13.983333333333333'),\n",
      "             ('month', '1'),\n",
      "             ('hour', '0'),\n",
      "             ('day_of_week', 'Friday'),\n",
      "             ('user_type', 'Customer')])\n"
     ]
    }
   ],
   "source": [
    "# Run this cell to check your work\n",
    "city_info = {'Washington': {'in_file': './data/Washington-CapitalBikeshare-2016.csv',\n",
    "                            'out_file': './data/Washington-2016-Summary.csv'},\n",
    "             'Chicago': {'in_file': './data/Chicago-Divvy-2016.csv',\n",
    "                         'out_file': './data/Chicago-2016-Summary.csv'},\n",
    "             'NYC': {'in_file': './data/NYC-CitiBike-2016.csv',\n",
    "                     'out_file': './data/NYC-2016-Summary.csv'}}\n",
    "\n",
    "for city, filenames in city_info.items():\n",
    "    condense_data(filenames['in_file'], filenames['out_file'], city)\n",
    "    print_first_point(filenames['out_file'])"
   ]
  },
  {
   "cell_type": "markdown",
   "metadata": {},
   "source": [
    "> **Tip**: If you save a jupyter Notebook, the output from running code blocks will also be saved. However, the state of your workspace will be reset once a new session is started. Make sure that you run all of the necessary code blocks from your previous session to reestablish variables and functions before picking up where you last left off.\n",
    "\n",
    "<a id='eda'></a>\n",
    "## Exploratory Data Analysis\n",
    "\n",
    "Now that you have the data collected and wrangled, you're ready to start exploring the data. In this section you will write some code to compute descriptive statistics from the data. You will also be introduced to the `matplotlib` library to create some basic histograms of the data.\n",
    "\n",
    "<a id='statistics'></a>\n",
    "### Statistics\n",
    "\n",
    "First, let's compute some basic counts. The first cell below contains a function that uses the csv module to iterate through a provided data file, returning the number of trips made by subscribers and customers. The second cell runs this function on the example Bay Area data in the `/examples/` folder. Modify the cells to answer the question below.\n",
    "\n",
    "**Question 4a**: Which city has the highest number of trips? Which city has the highest proportion of trips made by subscribers? Which city has the highest proportion of trips made by short-term customers?\n",
    "\n",
    "**Answer**: Highest trips = New York City (276,798). Highest proportion by subscribers = NYC (89.07%). Highest proportion by short-term customers = Chicago (23.77%)."
   ]
  },
  {
   "cell_type": "code",
   "execution_count": 169,
   "metadata": {
    "collapsed": true
   },
   "outputs": [],
   "source": [
    "def number_of_trips(filename):\n",
    "    \"\"\"\n",
    "    This function reads in a file with trip data and reports the number of\n",
    "    trips made by subscribers and customers.\n",
    "    \"\"\"\n",
    "    with open(filename, 'r') as f_in:\n",
    "        # set up csv reader object\n",
    "        reader = csv.DictReader(f_in)\n",
    "        \n",
    "        # initialize count variables\n",
    "        n_subscribers = 0\n",
    "        n_customers = 0\n",
    "        \n",
    "        # tally up ride types\n",
    "        for row in reader:\n",
    "            if row['user_type'] == 'Subscriber':\n",
    "                n_subscribers += 1\n",
    "            elif row['user_type'] == 'Customer':\n",
    "                n_customers += 1\n",
    "        \n",
    "        # return tallies as a tuple\n",
    "        return(n_subscribers, n_customers)"
   ]
  },
  {
   "cell_type": "code",
   "execution_count": 170,
   "metadata": {},
   "outputs": [
    {
     "data": {
      "text/html": [
       "<div>\n",
       "<style>\n",
       "    .dataframe thead tr:only-child th {\n",
       "        text-align: right;\n",
       "    }\n",
       "\n",
       "    .dataframe thead th {\n",
       "        text-align: left;\n",
       "    }\n",
       "\n",
       "    .dataframe tbody tr th {\n",
       "        vertical-align: top;\n",
       "    }\n",
       "</style>\n",
       "<table border=\"1\" class=\"dataframe\">\n",
       "  <thead>\n",
       "    <tr style=\"text-align: right;\">\n",
       "      <th></th>\n",
       "      <th>Chi Trips</th>\n",
       "      <th>Chi %</th>\n",
       "      <th>NYC Trips</th>\n",
       "      <th>NYC %</th>\n",
       "      <th>Was Trips</th>\n",
       "      <th>Was %</th>\n",
       "    </tr>\n",
       "  </thead>\n",
       "  <tbody>\n",
       "    <tr>\n",
       "      <th>Subscriber</th>\n",
       "      <td>54982</td>\n",
       "      <td>76.23</td>\n",
       "      <td>245896</td>\n",
       "      <td>89.07</td>\n",
       "      <td>51753</td>\n",
       "      <td>78.03</td>\n",
       "    </tr>\n",
       "    <tr>\n",
       "      <th>Customer</th>\n",
       "      <td>17149</td>\n",
       "      <td>23.77</td>\n",
       "      <td>30185</td>\n",
       "      <td>10.93</td>\n",
       "      <td>14573</td>\n",
       "      <td>21.97</td>\n",
       "    </tr>\n",
       "    <tr>\n",
       "      <th>Total</th>\n",
       "      <td>72131</td>\n",
       "      <td>100.00</td>\n",
       "      <td>276081</td>\n",
       "      <td>100.00</td>\n",
       "      <td>66326</td>\n",
       "      <td>100.00</td>\n",
       "    </tr>\n",
       "  </tbody>\n",
       "</table>\n",
       "</div>"
      ],
      "text/plain": [
       "           Chi Trips   Chi % NYC Trips   NYC % Was Trips   Was %\n",
       "Subscriber     54982   76.23    245896   89.07     51753   78.03\n",
       "Customer       17149   23.77     30185   10.93     14573   21.97\n",
       "Total          72131  100.00    276081  100.00     66326  100.00"
      ]
     },
     "execution_count": 170,
     "metadata": {},
     "output_type": "execute_result"
    }
   ],
   "source": [
    "## Modify this and the previous cell to answer Question 4a. Remember to run ##\n",
    "## the function on the cleaned data files you created from Question 3.      ##\n",
    "\n",
    "#data_file = './examples/BayArea-Y3-Summary.csv'\n",
    "#print(number_of_trips(data_file))\n",
    "washington_data_file = './data/Washington-2016-Summary.csv'\n",
    "washington_trips = number_of_trips(washington_data_file)\n",
    "\n",
    "chicago_data_file = './data/Chicago-2016-Summary.csv'\n",
    "chicago_trips = number_of_trips(chicago_data_file)\n",
    "\n",
    "nyc_data_file = './data/NYC-2016-Summary.csv'\n",
    "nyc_trips = number_of_trips(nyc_data_file)\n",
    "\n",
    "# Set up DataFrame column labels\n",
    "chi_trips_name = 'Chi Trips'\n",
    "nyc_trips_name = 'NYC Trips'\n",
    "was_trips_name = 'Was Trips'\n",
    "\n",
    "# Create a DataFrame showing the number of trips\n",
    "data = {chi_trips_name : chicago_trips,\n",
    "        nyc_trips_name : nyc_trips,\n",
    "        was_trips_name : washington_trips}\n",
    "df = DataFrame(data, index=['Subscriber', 'Customer'], dtype=object)\n",
    "\n",
    "# Add columns for the percentage of trips by Subscribers and Customers for each city\n",
    "chi_pct_name = 'Chi %'\n",
    "nyc_pct_name = 'NYC %'\n",
    "was_pct_name = 'Was %'\n",
    "\n",
    "df.insert(1, chi_pct_name, [ (x/df[chi_trips_name].sum()*100) for x in df[chi_trips_name] ])\n",
    "df.insert(3, nyc_pct_name, [ (x/df[nyc_trips_name].sum()*100) for x in df[nyc_trips_name] ])\n",
    "df.insert(5, was_pct_name, [ (x/df[was_trips_name].sum()*100) for x in df[was_trips_name] ])\n",
    "\n",
    "# Round the percentages so they are easier to read\n",
    "df[chi_pct_name] = df[chi_pct_name].round(2)\n",
    "df[nyc_pct_name] = df[nyc_pct_name].round(2)\n",
    "df[was_pct_name] = df[was_pct_name].round(2)\n",
    "\n",
    "# Create a total row at the bottom\n",
    "df.loc['Total'] = df.sum()\n",
    "\n",
    "df"
   ]
  },
  {
   "cell_type": "markdown",
   "metadata": {},
   "source": [
    "> **Tip**: In order to add additional cells to a notebook, you can use the \"Insert Cell Above\" and \"Insert Cell Below\" options from the menu bar above. There is also an icon in the toolbar for adding new cells, with additional icons for moving the cells up and down the document. By default, new cells are of the code type; you can also specify the cell type (e.g. Code or Markdown) of selected cells from the Cell menu or the dropdown in the toolbar.\n",
    "\n",
    "Now, you will write your own code to continue investigating properties of the data.\n",
    "\n",
    "**Question 4b**: Bike-share systems are designed for riders to take short trips. Most of the time, users are allowed to take trips of 30 minutes or less with no additional charges, with overage charges made for trips of longer than that duration. What is the average trip length for each city? What proportion of rides made in each city are longer than 30 minutes?\n",
    "\n",
    "**Answer**: Average Trip Length: Washington = 18.9 mins, Chicago = 16.6 mins, NYC = 15.8 mins. Proportion of rides longer than 30 minutes: Washington = 10.8%, Chicago = 8.3%, NYC = 7.3%"
   ]
  },
  {
   "cell_type": "code",
   "execution_count": 171,
   "metadata": {
    "scrolled": true
   },
   "outputs": [
    {
     "name": "stdout",
     "output_type": "stream",
     "text": [
      "\n",
      "Trip Duration Information\n",
      "-------------------------\n",
      "City:       (Average Trip Duration, Percentage of trips longer than 30 mins)\n",
      "Washington: (18.93287355913721, 10.83888671109369)\n",
      "Chicago:    (16.563629368787335, 8.332062497400562)\n",
      "NYC:        (15.81259299802294, 7.3024371563378345)\n"
     ]
    }
   ],
   "source": [
    "## Use this and additional cells to answer Question 4b.                 ##\n",
    "##                                                                      ##\n",
    "## HINT: The csv module reads in all of the data as strings, including  ##\n",
    "## numeric values. You will need a function to convert the strings      ##\n",
    "## into an appropriate numeric type before you aggregate data.          ##\n",
    "## TIP: For the Bay Area example, the average trip length is 14 minutes ##\n",
    "## and 3.5% of trips are longer than 30 minutes.                        ##\n",
    "def duration_data(filename, user_type=None):\n",
    "    \"\"\"\n",
    "    This function accepts a trip data file name and optional user type (Subscriber or Customer).\n",
    "    It reads in the file and computes duration data for the user type. If user type is not specified then all data is used.\n",
    "    It returns a tuple containing (average trip duration, percentage of trips that are longer than 30 minutes).\n",
    "    \"\"\"\n",
    "    \n",
    "    with open(filename, 'r') as trip_file_in:\n",
    "        trip_file_reader = csv.DictReader(trip_file_in)\n",
    "        \n",
    "        # initialize variables\n",
    "        f_total_duration = 0\n",
    "        i_num_trips = 0\n",
    "        i_num_thirty_min_trips = 0\n",
    "        \n",
    "        # tally up data\n",
    "        for trip_data_row in trip_file_reader:\n",
    "            # Include the data row in the results only if the user type matches or was not specified\n",
    "            if user_type == None or trip_data_row['user_type'] == user_type:\n",
    "                f_duration = float(trip_data_row['duration'])\n",
    "            \n",
    "                f_total_duration += f_duration\n",
    "            \n",
    "                if f_duration > 30:\n",
    "                    i_num_thirty_min_trips += 1\n",
    "            \n",
    "                i_num_trips += 1\n",
    "    \n",
    "    # Calculate the stats using the tallied data\n",
    "    avg_duration = f_total_duration / i_num_trips\n",
    "    thirty_min_pct = i_num_thirty_min_trips / i_num_trips * 100\n",
    "    \n",
    "    return (avg_duration, thirty_min_pct)\n",
    "\n",
    "# Test data\n",
    "#data_file = './examples/BayArea-Y3-Summary.csv'\n",
    "#print(duration_data(data_file))\n",
    "\n",
    "washington_data_file = './data/Washington-2016-Summary.csv'\n",
    "washington_duration = duration_data(washington_data_file)\n",
    "\n",
    "chicago_data_file = './data/Chicago-2016-Summary.csv'\n",
    "chicago_duration = duration_data(chicago_data_file)\n",
    "\n",
    "nyc_data_file = './data/NYC-2016-Summary.csv'\n",
    "nyc_duration = duration_data(nyc_data_file)\n",
    "\n",
    "print(\"\")\n",
    "print(\"Trip Duration Information\")\n",
    "print(\"-------------------------\")\n",
    "print(\"City:       (Average Trip Duration, Percentage of trips longer than 30 mins)\")\n",
    "print(\"Washington: {0}\".format(washington_duration))\n",
    "print(\"Chicago:    {0}\".format(chicago_duration))\n",
    "print(\"NYC:        {0}\".format(nyc_duration))"
   ]
  },
  {
   "cell_type": "markdown",
   "metadata": {},
   "source": [
    "**Question 4c**: Dig deeper into the question of trip duration based on ridership. Choose one city. Within that city, which type of user takes longer rides on average: Subscribers or Customers?\n",
    "\n",
    "**Answer**: NYC: Customers take longer rides on average (33 mins vs 13.7 mins)."
   ]
  },
  {
   "cell_type": "code",
   "execution_count": 172,
   "metadata": {},
   "outputs": [
    {
     "name": "stdout",
     "output_type": "stream",
     "text": [
      "\n",
      "Trip Duration Information\n",
      "-------------------------\n",
      "City - User Type: (Average Trip Duration, Percentage of trips longer than 30 mins)\n",
      "NYC - Subscriber: (13.680790523907177, 5.340062465432541)\n",
      "NYC - Customer:   (32.982004306775025, 23.074374689415272)\n"
     ]
    }
   ],
   "source": [
    "## Use this and additional cells to answer Question 4c. If you have    ##\n",
    "## not done so yet, consider revising some of your previous code to    ##\n",
    "## make use of functions for reusability.                              ##\n",
    "##                                                                     ##\n",
    "## TIP: For the Bay Area example data, you should find the average     ##\n",
    "## Subscriber trip duration to be 9.5 minutes and the average Customer ##\n",
    "## trip duration to be 54.6 minutes. Do the other cities have this     ##\n",
    "## level of difference?                                                ##\n",
    "\n",
    "nyc_data_file = './data/NYC-2016-Summary.csv'\n",
    "nyc_subscriber_duration = duration_data(nyc_data_file, \"Subscriber\")\n",
    "nyc_customer_duration = duration_data(nyc_data_file, \"Customer\")\n",
    "\n",
    "print(\"\")\n",
    "print(\"Trip Duration Information\")\n",
    "print(\"-------------------------\")\n",
    "print(\"City - User Type: (Average Trip Duration, Percentage of trips longer than 30 mins)\")\n",
    "print(\"NYC - Subscriber: {0}\".format(nyc_subscriber_duration))\n",
    "print(\"NYC - Customer:   {0}\".format(nyc_customer_duration))"
   ]
  },
  {
   "cell_type": "markdown",
   "metadata": {},
   "source": [
    "<a id='visualizations'></a>\n",
    "### Visualizations\n",
    "\n",
    "The last set of values that you computed should have pulled up an interesting result. While the mean trip time for Subscribers is well under 30 minutes, the mean trip time for Customers is actually _above_ 30 minutes! It will be interesting for us to look at how the trip times are distributed. In order to do this, a new library will be introduced here, `matplotlib`. Run the cell below to load the library and to generate an example plot."
   ]
  },
  {
   "cell_type": "code",
   "execution_count": 173,
   "metadata": {},
   "outputs": [
    {
     "data": {
      "image/png": "[encoded data removed]",
      "text/plain": [
       "<matplotlib.figure.Figure at 0x7f283132c668>"
      ]
     },
     "metadata": {},
     "output_type": "display_data"
    }
   ],
   "source": [
    "# load library\n",
    "import matplotlib.pyplot as plt\n",
    "\n",
    "# this is a 'magic word' that allows for plots to be displayed\n",
    "# inline with the notebook. If you want to know more, see:\n",
    "# http://ipython.readthedocs.io/en/stable/interactive/magics.html\n",
    "%matplotlib inline \n",
    "\n",
    "# example histogram, data taken from bay area sample\n",
    "data = [ 7.65,  8.92,  7.42,  5.50, 16.17,  4.20,  8.98,  9.62, 11.48, 14.33,\n",
    "        19.02, 21.53,  3.90,  7.97,  2.62,  2.67,  3.08, 14.40, 12.90,  7.83,\n",
    "        25.12,  8.30,  4.93, 12.43, 10.60,  6.17, 10.88,  4.78, 15.15,  3.53,\n",
    "         9.43, 13.32, 11.72,  9.85,  5.22, 15.10,  3.95,  3.17,  8.78,  1.88,\n",
    "         4.55, 12.68, 12.38,  9.78,  7.63,  6.45, 17.38, 11.90, 11.52,  8.63,]\n",
    "plt.hist(data)\n",
    "plt.title('Distribution of Trip Durations')\n",
    "plt.xlabel('Duration (m)')\n",
    "plt.show()"
   ]
  },
  {
   "cell_type": "markdown",
   "metadata": {},
   "source": [
    "In the above cell, we collected fifty trip times in a list, and passed this list as the first argument to the `.hist()` function. This function performs the computations and creates plotting objects for generating a histogram, but the plot is actually not rendered until the `.show()` function is executed. The `.title()` and `.xlabel()` functions provide some labeling for plot context.\n",
    "\n",
    "You will now use these functions to create a histogram of the trip times for the city you selected in question 4c. Don't separate the Subscribers and Customers for now: just collect all of the trip times and plot them."
   ]
  },
  {
   "cell_type": "code",
   "execution_count": 174,
   "metadata": {},
   "outputs": [
    {
     "data": {
      "image/png": "[encoded data removed]",
      "text/plain": [
       "<matplotlib.figure.Figure at 0x7f28310cf278>"
      ]
     },
     "metadata": {},
     "output_type": "display_data"
    }
   ],
   "source": [
    "## Use this and additional cells to collect all of the trip times as a list ##\n",
    "## and then use pyplot functions to generate a histogram of trip times.     ##\n",
    "\n",
    "def trip_times(filename, user_type=None):\n",
    "    \"\"\"\n",
    "    This function accepts a trip data file name and optional user type (Subscriber or Customer).\n",
    "    It returns a list of the durations of every trip in the file.\n",
    "    If user type is specified the list is limited to trips by those users.\n",
    "    \"\"\"\n",
    "    \n",
    "    with open(filename, 'r') as trip_file_in:\n",
    "        trip_file_reader = csv.DictReader(trip_file_in)\n",
    "        \n",
    "        # initialize variables\n",
    "        trip_times = []\n",
    "        \n",
    "        # tally up data\n",
    "        for trip_data_row in trip_file_reader:\n",
    "            if user_type == None or user_type == trip_data_row['user_type']:\n",
    "                trip_times.append(float(trip_data_row['duration']))\n",
    "            \n",
    "    return trip_times\n",
    "\n",
    "nyc_data_file = './data/NYC-2016-Summary.csv'\n",
    "\n",
    "plt.hist(trip_times(nyc_data_file))\n",
    "plt.title('Distribution of Trip Durations')\n",
    "plt.xlabel('Duration (m)')\n",
    "plt.ylabel('Number of Trips')\n",
    "plt.show()"
   ]
  },
  {
   "cell_type": "markdown",
   "metadata": {},
   "source": [
    "If you followed the use of the `.hist()` and `.show()` functions exactly like in the example, you're probably looking at a plot that's completely unexpected. The plot consists of one extremely tall bar on the left, maybe a very short second bar, and a whole lot of empty space in the center and right. Take a look at the duration values on the x-axis. This suggests that there are some highly infrequent outliers in the data. Instead of reprocessing the data, you will use additional parameters with the `.hist()` function to limit the range of data that is plotted. Documentation for the function can be found [[here]](https://matplotlib.org/devdocs/api/_as_gen/matplotlib.pyplot.hist.html#matplotlib.pyplot.hist).\n",
    "\n",
    "**Question 5**: Use the parameters of the `.hist()` function to plot the distribution of trip times for the Subscribers in your selected city. Do the same thing for only the Customers. Add limits to the plots so that only trips of duration less than 75 minutes are plotted. As a bonus, set the plots up so that bars are in five-minute wide intervals. For each group, where is the peak of each distribution? How would you describe the shape of each distribution?\n",
    "\n",
    "**Answer**: Subscriber peak = 5-10 mins, Customer peak = 15-25 mins. Subscriber distribution is heavily weighted to short durations (positive skew). Customer distribution is a more normal distribution. Both distributions have outliers of long durations."
   ]
  },
  {
   "cell_type": "code",
   "execution_count": 175,
   "metadata": {},
   "outputs": [
    {
     "data": {
      "image/png": "[encoded data removed]",
      "text/plain": [
       "<matplotlib.figure.Figure at 0x7f283088c8d0>"
      ]
     },
     "metadata": {},
     "output_type": "display_data"
    }
   ],
   "source": [
    "## Use this and additional cells to answer Question 5. ##\n",
    "nyc_data_file = './data/NYC-2016-Summary.csv'\n",
    "\n",
    "plt.hist(trip_times(nyc_data_file, \"Subscriber\"), range=(0,75), label='Subscriber', bins=15)\n",
    "plt.hist(trip_times(nyc_data_file, \"Customer\"), range=(0,75), label=\"Customer\", bins=15)\n",
    "plt.title('Distribution of Trip Durations')\n",
    "plt.xlabel('Duration (m)')\n",
    "plt.ylabel('Number of Trips')\n",
    "plt.legend(loc='upper right')\n",
    "plt.show()"
   ]
  },
  {
   "cell_type": "code",
   "execution_count": 176,
   "metadata": {},
   "outputs": [
    {
     "data": {
      "image/png": "[encoded data removed]",
      "text/plain": [
       "<matplotlib.figure.Figure at 0x7f283092d278>"
      ]
     },
     "metadata": {},
     "output_type": "display_data"
    }
   ],
   "source": [
    "## Use this and additional cells to answer Question 5. ##\n",
    "nyc_data_file = './data/NYC-2016-Summary.csv'\n",
    "\n",
    "cust_trip_times = trip_times(nyc_data_file, \"Customer\")\n",
    "\n",
    "fig = plt.figure()\n",
    "subplot = fig.add_subplot(111)\n",
    "\n",
    "subplot.hist(cust_trip_times, range=(0,75), label='Customer', bins=15, color='lightblue')\n",
    "subplot.set_title('Distribution of Trip Durations')\n",
    "subplot.set_xlabel('Duration (m)')\n",
    "subplot.set_ylabel('Number of Trips')\n",
    "\n",
    "# Calculate the mean and add it to the plot\n",
    "mean = np.mean(cust_trip_times)\n",
    "subplot.axvline(mean, color='r', linestyle='dashed')\n",
    "meanArtist = plt.Line2D((0,1),(0,0), color='r', linestyle='dashed')\n",
    "meanLabel = 'Mean = {0:.2f}'.format(mean)\n",
    "\n",
    "# Calculate the median and add it to the plot\n",
    "median = np.median(cust_trip_times)\n",
    "subplot.axvline(median, color='g', linestyle='dashed')\n",
    "medianArtist = plt.Line2D((0,1),(0,0), color='g', linestyle='dashed')\n",
    "medianLabel = 'Median = {0:.2f}'.format(median)\n",
    "\n",
    "# Add a legend\n",
    "handles, labels = subplot.get_legend_handles_labels()\n",
    "subplot.legend(handles+[meanArtist,medianArtist], labels+[meanLabel,medianLabel])\n",
    "\n",
    "plt.show()"
   ]
  },
  {
   "cell_type": "code",
   "execution_count": 177,
   "metadata": {},
   "outputs": [
    {
     "data": {
      "image/png": "[encoded data removed]",
      "text/plain": [
       "<matplotlib.figure.Figure at 0x7f2831c2f4a8>"
      ]
     },
     "metadata": {},
     "output_type": "display_data"
    }
   ],
   "source": [
    "## Use this and additional cells to answer Question 5. ##\n",
    "nyc_data_file = './data/NYC-2016-Summary.csv'\n",
    "\n",
    "sub_trip_times = trip_times(nyc_data_file, \"Subscriber\")\n",
    "\n",
    "fig = plt.figure()\n",
    "subplot = fig.add_subplot(111)\n",
    "\n",
    "subplot.hist(sub_trip_times, range=(0,75), label='Subscriber', bins=15, color='lightblue')\n",
    "subplot.set_title('Distribution of Trip Durations')\n",
    "subplot.set_xlabel('Duration (m)')\n",
    "subplot.set_ylabel('Number of Trips')\n",
    "\n",
    "# Calculate the mean and add it to the plot\n",
    "mean = np.mean(sub_trip_times)\n",
    "subplot.axvline(mean, color='r', linestyle='dashed')\n",
    "meanArtist = plt.Line2D((0,1),(0,0), color='r', linestyle='dashed')\n",
    "meanLabel = 'Mean = {0:.2f}'.format(mean)\n",
    "\n",
    "# Calculate the median and add it to the plot\n",
    "median = np.median(sub_trip_times)\n",
    "subplot.axvline(median, color='g', linestyle='dashed')\n",
    "medianArtist = plt.Line2D((0,1),(0,0), color='g', linestyle='dashed')\n",
    "medianLabel = 'Median = {0:.2f}'.format(median)\n",
    "\n",
    "# Add a legend\n",
    "handles, labels = subplot.get_legend_handles_labels()\n",
    "subplot.legend(handles+[meanArtist,medianArtist], labels+[meanLabel,medianLabel])\n",
    "\n",
    "plt.show()"
   ]
  },
  {
   "cell_type": "markdown",
   "metadata": {
    "collapsed": true
   },
   "source": [
    "<a id='eda_continued'></a>\n",
    "## Performing Your Own Analysis\n",
    "\n",
    "So far, you've performed an initial exploration into the data available. You have compared the relative volume of trips made between three U.S. cities and the ratio of trips made by Subscribers and Customers. For one of these cities, you have investigated differences between Subscribers and Customers in terms of how long a typical trip lasts. Now it is your turn to continue the exploration in a direction that you choose. Here are a few suggestions for questions to explore:\n",
    "\n",
    "- How does ridership differ by month or season? Which month / season has the highest ridership? Does the ratio of Subscriber trips to Customer trips change depending on the month or season?\n",
    "- Is the pattern of ridership different on the weekends versus weekdays? On what days are Subscribers most likely to use the system? What about Customers? Does the average duration of rides change depending on the day of the week?\n",
    "- During what time of day is the system used the most? Is there a difference in usage patterns for Subscribers and Customers?\n",
    "\n",
    "If any of the questions you posed in your answer to question 1 align with the bullet points above, this is a good opportunity to investigate one of them. As part of your investigation, you will need to create a visualization. If you want to create something other than a histogram, then you might want to consult the [Pyplot documentation](https://matplotlib.org/devdocs/api/pyplot_summary.html). In particular, if you are plotting values across a categorical variable (e.g. city, user type), a bar chart will be useful. The [documentation page for `.bar()`](https://matplotlib.org/devdocs/api/_as_gen/matplotlib.pyplot.bar.html#matplotlib.pyplot.bar) includes links at the bottom of the page with examples for you to build off of for your own use.\n",
    "\n",
    "**Question 6**: Continue the investigation by exploring another question that could be answered by the data available. Document the question you want to explore below. Your investigation should involve at least two variables and should compare at least two groups. You should also use at least one visualization as part of your explorations.\n",
    "\n",
    "**Answer**:\n",
    "\n",
    "**Is the pattern of ridership different on the weekends versus weekdays?**\n",
    "For Chicago and Washington ridership is pretty consistent across all days of the week. NYC ridership is lower on weekends than weekdays.\n",
    "\n",
    "**On what days are Subscribers most likely to use the system? What about Customers?**\n",
    "Subscribers are most likely to use the system on Wednesday though Thursday and Tuesday are very close behind. Customers are most likely to use the system on Saturdays though Sundays are very close behind. Customer usage is significantly higher (about double) on weekends than weekdays. Subscriber usage is significantly higher on weekdays than weekends (about 50% higher).\n",
    "\n",
    "**Does the average duration of rides change depending on the day of the week?**\n",
    "Yes. The average duration for Subscribers rises over the weekend. The average duration for Customers dips on Thursdays."
   ]
  },
  {
   "cell_type": "code",
   "execution_count": 178,
   "metadata": {
    "collapsed": true
   },
   "outputs": [],
   "source": [
    "## import all necessary packages and functions.\n",
    "import csv # read and write csv files\n",
    "from datetime import datetime # operations to parse dates\n",
    "from pprint import pprint # use to print data structures like dictionaries in\n",
    "                          # a nicer way than the base print function.\n",
    "import shutil # operations for manipulating files\n",
    "import numpy as np # library for scientific computing\n",
    "\n",
    "# load library\n",
    "import matplotlib.pyplot as plt\n",
    "\n",
    "# this is a 'magic word' that allows for plots to be displayed\n",
    "# inline with the notebook. If you want to know more, see:\n",
    "# http://ipython.readthedocs.io/en/stable/interactive/magics.html\n",
    "%matplotlib inline"
   ]
  },
  {
   "cell_type": "code",
   "execution_count": 179,
   "metadata": {
    "collapsed": true
   },
   "outputs": [],
   "source": [
    "# Set up global variables\n",
    "\n",
    "# Data files\n",
    "chicago_data_file = './data/Chicago-2016-Summary.csv'\n",
    "nyc_data_file = './data/NYC-2016-Summary.csv'\n",
    "wash_data_file = './data/Washington-2016-Summary.csv'\n",
    "\n",
    "# The upcoming graphs are all based on days of the week so we can set these here\n",
    "graph_days = np.array([1, 2, 3, 4, 5, 6, 7])\n",
    "graph_day_labels = ['', 'Mon', 'Tue', 'Wed', 'Thu', 'Fri', 'Sat', 'Sun']"
   ]
  },
  {
   "cell_type": "code",
   "execution_count": 180,
   "metadata": {
    "collapsed": true
   },
   "outputs": [],
   "source": [
    "def trips_per_day(filename, user_type=None):\n",
    "    \"\"\"\n",
    "    This function accepts a trip data file name and optional user type (Subscriber or Customer).\n",
    "    It returns a list of the number of trips each day of the week.\n",
    "    The list is indexed in day of the week order from 0-6 with 0=Monday and 6=Sunday.\n",
    "    If user type is specified the list is limited to trips by those users.\n",
    "    Note: Monday to Sunday is used rather than the more traditional calendar setup of Sunday to Saturday to facilitate\n",
    "    comparisons between weekdays and weekends.\n",
    "    \"\"\"\n",
    "    \n",
    "    with open(filename, 'r') as trip_file_in:\n",
    "        trip_file_reader = csv.DictReader(trip_file_in)\n",
    "        \n",
    "        # initialize variables\n",
    "        day_index_ref = {'Mon':0, 'Tue':1, 'Wed':2, 'Thu':3, 'Fri':4, 'Sat':5, 'Sun':6}\n",
    "        trip_day_totals = [0, 0, 0, 0, 0, 0, 0]\n",
    "        \n",
    "        # tally up data\n",
    "        for trip_data_row in trip_file_reader:\n",
    "            # We don't want to process rows containing headings so check if the duration data contains the string \"duration\"\n",
    "            # which would indicate it is a header row and should not be processed.\n",
    "            if trip_data_row['duration'] != 'duration' and user_type == None or user_type == trip_data_row['user_type']:\n",
    "                # For the day of the week that the trip was made, \n",
    "                # look up the associated numerical index in the reference dictionary\n",
    "                day_index = day_index_ref[trip_data_row['day_of_week'][:3]]\n",
    "                \n",
    "                # Increment the appropriate list entry\n",
    "                trip_day_totals[day_index] = trip_day_totals[day_index] + 1\n",
    "            \n",
    "    return trip_day_totals"
   ]
  },
  {
   "cell_type": "code",
   "execution_count": 181,
   "metadata": {
    "scrolled": false
   },
   "outputs": [
    {
     "data": {
      "text/plain": [
       "<function matplotlib.pyplot.show>"
      ]
     },
     "execution_count": 181,
     "metadata": {},
     "output_type": "execute_result"
    },
    {
     "data": {
      "image/png": "[encoded data removed]",
      "text/plain": [
       "<matplotlib.figure.Figure at 0x7f28313a5940>"
      ]
     },
     "metadata": {},
     "output_type": "display_data"
    }
   ],
   "source": [
    "# Process the data files\n",
    "chicago_trips_per_day = trips_per_day(chicago_data_file)\n",
    "nyc_trips_per_day = trips_per_day(nyc_data_file)\n",
    "wash_trips_per_day = trips_per_day(wash_data_file)\n",
    "\n",
    "# Create the plot\n",
    "fig = plt.figure()\n",
    "subplot = fig.add_subplot(111)\n",
    "\n",
    "# Add the data\n",
    "subplot.bar(graph_days-0.2, chicago_trips_per_day, width=0.2, label='Chicago')\n",
    "subplot.bar(graph_days, nyc_trips_per_day, width=0.2, label='NYC')\n",
    "subplot.bar(graph_days+0.2, wash_trips_per_day, width=0.2, label='Washington')\n",
    "\n",
    "# Add labels and a legend\n",
    "subplot.set_title('6.a. Is the pattern of ridership different on the weekends versus weekdays?')\n",
    "subplot.set_xlabel('Day of Week')\n",
    "subplot.set_ylabel('Number of Trips')\n",
    "subplot.set_xticklabels(graph_day_labels)\n",
    "subplot.legend(loc='best')\n",
    "\n",
    "plt.show"
   ]
  },
  {
   "cell_type": "code",
   "execution_count": 182,
   "metadata": {
    "collapsed": true
   },
   "outputs": [],
   "source": [
    "# Create a file containing the data from all three files\n",
    "all_cities_data_file_name = './data/AllCities-2016-Summary.csv'\n",
    "\n",
    "with open(all_cities_data_file_name,'wb') as all_cities_data_file:\n",
    "    for city_data_file_name in [chicago_data_file, nyc_data_file, wash_data_file]:\n",
    "        with open(city_data_file_name,'rb') as city_data_file:\n",
    "            shutil.copyfileobj(city_data_file, all_cities_data_file)"
   ]
  },
  {
   "cell_type": "code",
   "execution_count": 183,
   "metadata": {},
   "outputs": [
    {
     "name": "stdout",
     "output_type": "stream",
     "text": [
      "\n",
      "6.b. On what days are Subscribers most likely to use the system? What about Customers?\n"
     ]
    },
    {
     "data": {
      "text/html": [
       "<div>\n",
       "<style>\n",
       "    .dataframe thead tr:only-child th {\n",
       "        text-align: right;\n",
       "    }\n",
       "\n",
       "    .dataframe thead th {\n",
       "        text-align: left;\n",
       "    }\n",
       "\n",
       "    .dataframe tbody tr th {\n",
       "        vertical-align: top;\n",
       "    }\n",
       "</style>\n",
       "<table border=\"1\" class=\"dataframe\">\n",
       "  <thead>\n",
       "    <tr style=\"text-align: right;\">\n",
       "      <th></th>\n",
       "      <th>Mon</th>\n",
       "      <th>Tue</th>\n",
       "      <th>Wed</th>\n",
       "      <th>Thu</th>\n",
       "      <th>Fri</th>\n",
       "      <th>Sat</th>\n",
       "      <th>Sun</th>\n",
       "    </tr>\n",
       "  </thead>\n",
       "  <tbody>\n",
       "    <tr>\n",
       "      <th>Subscriber</th>\n",
       "      <td>52121</td>\n",
       "      <td>57165</td>\n",
       "      <td>58370</td>\n",
       "      <td>58294</td>\n",
       "      <td>54212</td>\n",
       "      <td>37391</td>\n",
       "      <td>35078</td>\n",
       "    </tr>\n",
       "    <tr>\n",
       "      <th>Customer</th>\n",
       "      <td>7802</td>\n",
       "      <td>5814</td>\n",
       "      <td>5892</td>\n",
       "      <td>5960</td>\n",
       "      <td>7775</td>\n",
       "      <td>14631</td>\n",
       "      <td>14033</td>\n",
       "    </tr>\n",
       "  </tbody>\n",
       "</table>\n",
       "</div>"
      ],
      "text/plain": [
       "              Mon    Tue    Wed    Thu    Fri    Sat    Sun\n",
       "Subscriber  52121  57165  58370  58294  54212  37391  35078\n",
       "Customer     7802   5814   5892   5960   7775  14631  14033"
      ]
     },
     "execution_count": 183,
     "metadata": {},
     "output_type": "execute_result"
    }
   ],
   "source": [
    "# Calculate the data and display in a table\n",
    "\n",
    "subscriber_trips_per_day = trips_per_day(all_cities_data_file_name, \"Subscriber\")\n",
    "customer_trips_per_day = trips_per_day(all_cities_data_file_name, \"Customer\")\n",
    "\n",
    "day_list = ['Mon', 'Tue', 'Wed', 'Thu', 'Fri', 'Sat', 'Sun']\n",
    "\n",
    "# Join the lists so they can be displayed pretty\n",
    "data = np.array([subscriber_trips_per_day, customer_trips_per_day])\n",
    "\n",
    "print(\"\")\n",
    "print(\"6.b. On what days are Subscribers most likely to use the system? What about Customers?\")\n",
    "DataFrame(data, ['Subscriber', 'Customer'], day_list)"
   ]
  },
  {
   "cell_type": "code",
   "execution_count": 184,
   "metadata": {},
   "outputs": [
    {
     "data": {
      "text/plain": [
       "<function matplotlib.pyplot.show>"
      ]
     },
     "execution_count": 184,
     "metadata": {},
     "output_type": "execute_result"
    },
    {
     "data": {
      "image/png": "[encoded data removed]",
      "text/plain": [
       "<matplotlib.figure.Figure at 0x7f283104f550>"
      ]
     },
     "metadata": {},
     "output_type": "display_data"
    }
   ],
   "source": [
    "# Plot the data in a bar graph\n",
    "\n",
    "fig = plt.figure()\n",
    "subplot = fig.add_subplot(111)\n",
    "\n",
    "subplot.bar(graph_days-0.2, subscriber_trips_per_day, width=0.2, align='edge', label='Subscriber')\n",
    "subplot.bar(graph_days, customer_trips_per_day, width=0.2, align='edge', label='Customer')\n",
    "\n",
    "subplot.set_title('6.b. On what days are Subscribers most likely to use the system? What about Customers?')\n",
    "subplot.set_xlabel('Day of Week')\n",
    "subplot.set_ylabel('Number of Trips')\n",
    "subplot.set_xticklabels(graph_day_labels)\n",
    "subplot.legend(loc='best')\n",
    "\n",
    "plt.show"
   ]
  },
  {
   "cell_type": "code",
   "execution_count": 185,
   "metadata": {
    "collapsed": true
   },
   "outputs": [],
   "source": [
    "def avg_duration_per_day(filename, user_type=None):\n",
    "    \"\"\"\n",
    "    This function accepts a trip data file name and optional user type (Subscriber or Customer).\n",
    "    It returns a list of the average trip duration for each day of the week.\n",
    "    The list is indexed in day of the week order from 0-6 with 0=Monday and 6=Sunday.\n",
    "    If user type is specified the average is calculated using only by those users.\n",
    "    Note: Monday to Sunday is used rather than the more traditional calendar setup of Sunday to Saturday to facilitate\n",
    "    comparisons between weekdays and weekends.\n",
    "    \"\"\"\n",
    "    with open(filename, 'r') as trip_file_in:\n",
    "        trip_file_reader = csv.DictReader(trip_file_in)\n",
    "        \n",
    "        # initialize variables\n",
    "        day_index_ref = {'Mon':0, 'Tue':1, 'Wed':2, 'Thu':3, 'Fri':4, 'Sat':5, 'Sun':6}\n",
    "        trip_day_stats = [{'day':'Mon', 'tot_dur':0, 'num_trips':0},\n",
    "                          {'day':'Tue', 'tot_dur':0, 'num_trips':0},\n",
    "                          {'day':'Wed', 'tot_dur':0, 'num_trips':0},\n",
    "                          {'day':'Thu', 'tot_dur':0, 'num_trips':0},\n",
    "                          {'day':'Fri', 'tot_dur':0, 'num_trips':0},\n",
    "                          {'day':'Sat', 'tot_dur':0, 'num_trips':0},\n",
    "                          {'day':'Sun', 'tot_dur':0, 'num_trips':0},\n",
    "                         ]\n",
    "        \n",
    "        # tally up data\n",
    "        for trip_data_row in trip_file_reader:\n",
    "            # We don't want to process rows containing headings so check if the duration data contains the string \"duration\"\n",
    "            # which would indicate it is a header row and should not be processed.\n",
    "            if trip_data_row['duration'] != 'duration' and user_type == None or user_type == trip_data_row['user_type']: \n",
    "                # For the day of the week that the trip was made, \n",
    "                # look up the associated numerical index in the reference dictionary\n",
    "                day_index = day_index_ref[trip_data_row['day_of_week'][:3]]\n",
    "                \n",
    "                # Add the trip duration to the total duration for that day\n",
    "                trip_day_stats[day_index]['tot_dur'] = trip_day_stats[day_index]['tot_dur'] + float(trip_data_row['duration'])\n",
    "                \n",
    "                # Increment the number of trips that day\n",
    "                trip_day_stats[day_index]['num_trips'] = trip_day_stats[day_index]['num_trips'] + 1\n",
    "        \n",
    "        # Using the daily stats, caculate the average trip duration for each day\n",
    "        # Set up a list to hold the daily averages\n",
    "        avg_durations_per_day = [0, 0, 0, 0, 0, 0, 0]\n",
    "        \n",
    "        for trip_day_data in trip_day_stats:\n",
    "            # Get the right list index based on the day that is being processed\n",
    "            day_index = day_index_ref[trip_day_data['day']]\n",
    "            \n",
    "            # Calculate the average trip duration and set the appropriate entry in the return list\n",
    "            avg_durations_per_day[day_index] = trip_day_data['tot_dur'] / trip_day_data['num_trips']\n",
    "        \n",
    "    return avg_durations_per_day"
   ]
  },
  {
   "cell_type": "code",
   "execution_count": 186,
   "metadata": {},
   "outputs": [
    {
     "name": "stdout",
     "output_type": "stream",
     "text": [
      "\n",
      "6.c. Does the average duration of rides change depending on the day of the week?\n"
     ]
    },
    {
     "data": {
      "text/html": [
       "<div>\n",
       "<style>\n",
       "    .dataframe thead tr:only-child th {\n",
       "        text-align: right;\n",
       "    }\n",
       "\n",
       "    .dataframe thead th {\n",
       "        text-align: left;\n",
       "    }\n",
       "\n",
       "    .dataframe tbody tr th {\n",
       "        vertical-align: top;\n",
       "    }\n",
       "</style>\n",
       "<table border=\"1\" class=\"dataframe\">\n",
       "  <thead>\n",
       "    <tr style=\"text-align: right;\">\n",
       "      <th></th>\n",
       "      <th>Mon</th>\n",
       "      <th>Tue</th>\n",
       "      <th>Wed</th>\n",
       "      <th>Thu</th>\n",
       "      <th>Fri</th>\n",
       "      <th>Sat</th>\n",
       "      <th>Sun</th>\n",
       "    </tr>\n",
       "  </thead>\n",
       "  <tbody>\n",
       "    <tr>\n",
       "      <th>Subscriber</th>\n",
       "      <td>12.889899</td>\n",
       "      <td>12.602425</td>\n",
       "      <td>12.923576</td>\n",
       "      <td>12.908895</td>\n",
       "      <td>13.618994</td>\n",
       "      <td>14.319414</td>\n",
       "      <td>14.341067</td>\n",
       "    </tr>\n",
       "    <tr>\n",
       "      <th>Customer</th>\n",
       "      <td>34.063990</td>\n",
       "      <td>34.841962</td>\n",
       "      <td>34.117627</td>\n",
       "      <td>33.079933</td>\n",
       "      <td>34.490335</td>\n",
       "      <td>35.022039</td>\n",
       "      <td>34.712630</td>\n",
       "    </tr>\n",
       "  </tbody>\n",
       "</table>\n",
       "</div>"
      ],
      "text/plain": [
       "                  Mon        Tue        Wed        Thu        Fri        Sat  \\\n",
       "Subscriber  12.889899  12.602425  12.923576  12.908895  13.618994  14.319414   \n",
       "Customer    34.063990  34.841962  34.117627  33.079933  34.490335  35.022039   \n",
       "\n",
       "                  Sun  \n",
       "Subscriber  14.341067  \n",
       "Customer    34.712630  "
      ]
     },
     "execution_count": 186,
     "metadata": {},
     "output_type": "execute_result"
    }
   ],
   "source": [
    "# Calculate the data and display in a table\n",
    "\n",
    "sub_avg_duration_per_day = avg_duration_per_day(all_cities_data_file_name, \"Subscriber\")\n",
    "cust_avg_duration_per_day = avg_duration_per_day(all_cities_data_file_name, \"Customer\")\n",
    "\n",
    "day_list = ['Mon', 'Tue', 'Wed', 'Thu', 'Fri', 'Sat', 'Sun']\n",
    "avg_durations_per_day = np.array([sub_avg_duration_per_day, cust_avg_duration_per_day])\n",
    "\n",
    "print(\"\")\n",
    "print(\"6.c. Does the average duration of rides change depending on the day of the week?\")\n",
    "DataFrame(avg_durations_per_day, ['Subscriber', 'Customer'], day_list)"
   ]
  },
  {
   "cell_type": "code",
   "execution_count": 187,
   "metadata": {},
   "outputs": [
    {
     "data": {
      "text/plain": [
       "<function matplotlib.pyplot.show>"
      ]
     },
     "execution_count": 187,
     "metadata": {},
     "output_type": "execute_result"
    },
    {
     "data": {
      "image/png": "[encoded data removed]",
      "text/plain": [
       "<matplotlib.figure.Figure at 0x7f2831876ac8>"
      ]
     },
     "metadata": {},
     "output_type": "display_data"
    }
   ],
   "source": [
    "# Plot the data in a bar graph\n",
    "\n",
    "fig = plt.figure()\n",
    "subplot = fig.add_subplot(111)\n",
    "\n",
    "subplot.plot(cust_avg_duration_per_day, 's-', label='Customer')\n",
    "subplot.plot(sub_avg_duration_per_day, 'o-', label='Subscriber')\n",
    "\n",
    "subplot.set_title('6.c. Does the average duration of rides change depending on the day of the week?')\n",
    "subplot.set_xlabel('Day of Week')\n",
    "subplot.set_ylabel('Average Duration (m)')\n",
    "subplot.set_xticklabels(graph_day_labels)\n",
    "subplot.legend()\n",
    "\n",
    "plt.show"
   ]
  },
  {
   "cell_type": "markdown",
   "metadata": {},
   "source": [
    "<a id='conclusions'></a>\n",
    "## Conclusions\n",
    "\n",
    "Congratulations on completing the project! This is only a sampling of the data analysis process: from generating questions, wrangling the data, and to exploring the data. Normally, at this point in the data analysis process, you might want to draw conclusions about the data by performing a statistical test or fitting the data to a model for making predictions. There are also a lot of potential analyses that could be performed on the data which are not possible with only the data provided. For example, detailed location data has not been investigated. Where are the most commonly used docks? What are the most common routes? As another example, weather has potential to have a large impact on daily ridership. How much is ridership impacted when there is rain or snow? Are subscribers or customers affected more by changes in weather?\n",
    "\n",
    "**Question 7**: Putting the bike share data aside, think of a topic or field of interest where you would like to be able to apply the techniques of data science. What would you like to be able to learn from your chosen subject?\n",
    "\n",
    "**Answer**: Public transit. It would be interesting to know the impact on public transit of weather such as snow storms and cold temperatures. This is currently a hot topic in my city as our transit system operates at a loss and there is debate about whether to invest more money in it. One of the aspects of the debate is that due to our very cold climate public transit is not as feasible as in other cities our size. It would be interesting to compare data for our city to other cities our size also. Also, one of our iconic intersections, Portage & Main, has been closed to pedestrians for decades. City council is debating whether to reopen it. It would be interesting to analyze the traffic data to try to understand better the impact of crossing pedestrians on traffic flow as well as the probability of accidents.\n",
    "\n",
    "> **Tip**: If we want to share the results of our analysis with others, we aren't limited to giving them a copy of the jupyter Notebook (.ipynb) file. We can also export the Notebook output in a form that can be opened even for those without Python installed. From the **File** menu in the upper left, go to the **Download as** submenu. You can then choose a different format that can be viewed more generally, such as HTML (.html) or\n",
    "PDF (.pdf). You may need additional packages or software to perform these exports."
   ]
  },
  {
   "cell_type": "markdown",
   "metadata": {
    "collapsed": true
   },
   "source": [
    "<a id='resources'></a>\n",
    "## Resources\n",
    "\n",
    "* matplotlib.pyplot documentation - https://matplotlib.org/api/_as_gen/matplotlib.pyplot.html\n",
    "* matplotlib.pyplot.bar documentation - https://matplotlib.org/api/_as_gen/matplotlib.pyplot.bar.html\n",
    "* Pyplot tutorial - https://matplotlib.org/users/pyplot_tutorial.html\n",
    "* pandas.DataFrame documentation - https://pandas.pydata.org/pandas-docs/stable/generated/pandas.DataFrame.html\n",
    "* Printing lists as tabular data - https://stackoverflow.com/questions/9535954/printing-lists-as-tabular-data\n",
    "* Python concatenate text files - https://stackoverflow.com/questions/13613336/python-concatenate-text-files\n",
    "* Appending column totals to a pandas DataFrame - https://stackoverflow.com/questions/20804673/appending-column-totals-to-a-pandas-dataframe\n",
    "* Common Excel Tasks Demonstrated in Pandas - http://pbpython.com/excel-pandas-comp.html\n",
    "* Pandas DataFrame by Example - http://queirozf.com/entries/pandas-dataframe-by-example\n",
    "* Summarising, Aggregating, and Grouping data in Python Pandas - https://www.shanelynn.ie/summarising-aggregation-and-grouping-data-in-python-pandas/\n",
    "* Python Course - List Comprehension - https://www.python-course.eu/python3_list_comprehension.php\n",
    "* Stop Pandas From Converting int to float - https://stackoverflow.com/questions/40251948/stop-pandas-from-converting-int-to-float\n",
    "* How to make a Custom Legend in matplotlib - https://stackoverflow.com/questions/13303928/how-to-make-custom-legend-in-matplotlib\n",
    "* matplotlib Usage Guide - https://matplotlib.org/tutorials/introductory/usage.html"
   ]
  }
 ],
 "metadata": {
  "anaconda-cloud": {},
  "kernelspec": {
   "display_name": "Python 3",
   "language": "python",
   "name": "python3"
  },
  "language_info": {
   "codemirror_mode": {
    "name": "ipython",
    "version": 3
   },
   "file_extension": ".py",
   "mimetype": "text/x-python",
   "name": "python",
   "nbconvert_exporter": "python",
   "pygments_lexer": "ipython3",
   "version": "3.6.1"
  }
 },
 "nbformat": 4,
 "nbformat_minor": 1
}
